{
  "cells": [
    {
      "cell_type": "code",
      "execution_count": null,
      "metadata": {
        "colab": {
          "base_uri": "https://localhost:8080/"
        },
        "id": "o2Om3CLmr47L",
        "outputId": "1a769d45-f091-4c7d-c4df-6bfcd7e66781"
      },
      "outputs": [
        {
          "output_type": "stream",
          "name": "stdout",
          "text": [
            "Requirement already satisfied: spacy in /usr/local/lib/python3.7/dist-packages (2.2.4)\n",
            "Requirement already satisfied: thinc==7.4.0 in /usr/local/lib/python3.7/dist-packages (from spacy) (7.4.0)\n",
            "Requirement already satisfied: preshed<3.1.0,>=3.0.2 in /usr/local/lib/python3.7/dist-packages (from spacy) (3.0.6)\n",
            "Requirement already satisfied: catalogue<1.1.0,>=0.0.7 in /usr/local/lib/python3.7/dist-packages (from spacy) (1.0.0)\n",
            "Requirement already satisfied: murmurhash<1.1.0,>=0.28.0 in /usr/local/lib/python3.7/dist-packages (from spacy) (1.0.7)\n",
            "Requirement already satisfied: plac<1.2.0,>=0.9.6 in /usr/local/lib/python3.7/dist-packages (from spacy) (1.1.3)\n",
            "Requirement already satisfied: numpy>=1.15.0 in /usr/local/lib/python3.7/dist-packages (from spacy) (1.21.6)\n",
            "Requirement already satisfied: cymem<2.1.0,>=2.0.2 in /usr/local/lib/python3.7/dist-packages (from spacy) (2.0.6)\n",
            "Requirement already satisfied: wasabi<1.1.0,>=0.4.0 in /usr/local/lib/python3.7/dist-packages (from spacy) (0.9.1)\n",
            "Requirement already satisfied: srsly<1.1.0,>=1.0.2 in /usr/local/lib/python3.7/dist-packages (from spacy) (1.0.5)\n",
            "Requirement already satisfied: tqdm<5.0.0,>=4.38.0 in /usr/local/lib/python3.7/dist-packages (from spacy) (4.64.0)\n",
            "Requirement already satisfied: requests<3.0.0,>=2.13.0 in /usr/local/lib/python3.7/dist-packages (from spacy) (2.23.0)\n",
            "Requirement already satisfied: setuptools in /usr/local/lib/python3.7/dist-packages (from spacy) (57.4.0)\n",
            "Requirement already satisfied: blis<0.5.0,>=0.4.0 in /usr/local/lib/python3.7/dist-packages (from spacy) (0.4.1)\n",
            "Requirement already satisfied: importlib-metadata>=0.20 in /usr/local/lib/python3.7/dist-packages (from catalogue<1.1.0,>=0.0.7->spacy) (4.11.3)\n",
            "Requirement already satisfied: zipp>=0.5 in /usr/local/lib/python3.7/dist-packages (from importlib-metadata>=0.20->catalogue<1.1.0,>=0.0.7->spacy) (3.8.0)\n",
            "Requirement already satisfied: typing-extensions>=3.6.4 in /usr/local/lib/python3.7/dist-packages (from importlib-metadata>=0.20->catalogue<1.1.0,>=0.0.7->spacy) (4.2.0)\n",
            "Requirement already satisfied: urllib3!=1.25.0,!=1.25.1,<1.26,>=1.21.1 in /usr/local/lib/python3.7/dist-packages (from requests<3.0.0,>=2.13.0->spacy) (1.24.3)\n",
            "Requirement already satisfied: chardet<4,>=3.0.2 in /usr/local/lib/python3.7/dist-packages (from requests<3.0.0,>=2.13.0->spacy) (3.0.4)\n",
            "Requirement already satisfied: idna<3,>=2.5 in /usr/local/lib/python3.7/dist-packages (from requests<3.0.0,>=2.13.0->spacy) (2.10)\n",
            "Requirement already satisfied: certifi>=2017.4.17 in /usr/local/lib/python3.7/dist-packages (from requests<3.0.0,>=2.13.0->spacy) (2021.10.8)\n"
          ]
        }
      ],
      "source": [
        "!pip install spacy"
      ]
    },
    {
      "cell_type": "code",
      "execution_count": null,
      "metadata": {
        "id": "rQPyZ0Iys13z"
      },
      "outputs": [],
      "source": [
        "import spacy"
      ]
    },
    {
      "cell_type": "code",
      "source": [
        "nlp = spacy.load(\"en_core_web_sm\")"
      ],
      "metadata": {
        "id": "LJf_uGUBnf59"
      },
      "execution_count": null,
      "outputs": []
    },
    {
      "cell_type": "code",
      "source": [
        "from google.colab import drive\n",
        "drive.mount('/content/drive')"
      ],
      "metadata": {
        "colab": {
          "base_uri": "https://localhost:8080/"
        },
        "id": "BSAHZzYJoHQN",
        "outputId": "8772c591-aaae-420d-e38e-8540427eb00e"
      },
      "execution_count": null,
      "outputs": [
        {
          "output_type": "stream",
          "name": "stdout",
          "text": [
            "Drive already mounted at /content/drive; to attempt to forcibly remount, call drive.mount(\"/content/drive\", force_remount=True).\n"
          ]
        }
      ]
    },
    {
      "cell_type": "code",
      "source": [
        "with open (\"/content/drive/MyDrive/nlp/wiki.us.txt\", \"r\") as f:\n",
        "  text = f.read()"
      ],
      "metadata": {
        "id": "isl5FlktreEN"
      },
      "execution_count": null,
      "outputs": []
    },
    {
      "cell_type": "code",
      "source": [
        "print(text)"
      ],
      "metadata": {
        "colab": {
          "base_uri": "https://localhost:8080/"
        },
        "id": "_qveRvamruK2",
        "outputId": "012fd557-3046-48c6-af4e-c4302274765c"
      },
      "execution_count": null,
      "outputs": [
        {
          "output_type": "stream",
          "name": "stdout",
          "text": [
            "The United States of America (U.S.A. or USA), commonly known as the United States (U.S. or US) or simply America, is a country primarily located in North America. It consists of 50 states, a federal district, five major unincorporated territories, 326 Indian reservations, and nine minor outlying islands.[g] At nearly 3.8 million square miles (9.8 million square kilometers), it is the world's fourth-largest country by land area and third-largest by total area. The United States shares land borders with Canada to the north and Mexico to the south as well as maritime borders with the Bahamas, Cuba, and Russia, among others.[h] With more than 331 million people, it is the third most populous country in the world. The national capital is Washington, D.C., and the most populous city and financial center is New York City.\n",
            "\n",
            "Paleo-Indians migrated from Siberia to the North American mainland at least 12,000 years ago, and European colonization began in the 16th century. The United States emerged from the Thirteen British Colonies established along the East Coast. Disputes with Great Britain over taxation and political representation led to the American Revolutionary War (1775–1783), which established the nation's independence. In the late 18th century, the U.S. began expanding across North America, gradually obtaining new territories, sometimes through war, frequently displacing Native Americans, and admitting new states. This was strongly related to belief in manifest destiny, and by 1848, the United States spanned the continent from east to west. Slavery was legal in the southern United States until the second half of the 19th century, when the American Civil War led to its abolition. The Spanish–American War and World War I established the U.S. as a world power, and the aftermath of World War II left the United States and the Soviet Union as the world's two superpowers. During the Cold War, both sides fought in the Korean and Vietnam Wars but avoided direct military conflict. They competed in the Space Race, culminating in the 1969 American spaceflight that first landed humans on the Moon. The Soviet Union's dissolution in 1991 ended the Cold War, leaving the United States as the world's sole superpower of the post–Cold War era.\n",
            "\n",
            "The United States is a federal presidential-constitutional republic with three separate branches of government, including a bicameral legislature. It is a founding member of the United Nations, World Bank, International Monetary Fund, Organization of American States, NATO, and other international organizations. It is a permanent member of the United Nations Security Council. Considered a melting pot of cultures and ethnicities, its population has been profoundly shaped by centuries of immigration. The United States is a liberal democracy; it ranks high in international measures of economic freedom, quality of life, education, and human rights; and it has low levels of perceived corruption. Unlike other western democracies, the United States lacks universal health care, retains capital punishment, and has high levels of incarceration and inequality.[24]\n",
            "\n",
            "The United States is a highly developed country, and its economy accounts for approximately a quarter of global GDP and is the world's largest by GDP at market exchange rates. By value, the United States is the world's largest importer and second-largest exporter of goods. Although its population is only 4.2% of the world's total, it holds over 30% of the total wealth in the world, the largest share held by any country. Making up more than a third of global military spending, it is the foremost military power in the world and a leading political, cultural, and scientific force.[25]\n"
          ]
        }
      ]
    },
    {
      "cell_type": "code",
      "source": [
        "doc = nlp(text)"
      ],
      "metadata": {
        "id": "0PiEMmzXs1MF"
      },
      "execution_count": null,
      "outputs": []
    },
    {
      "cell_type": "code",
      "source": [
        "print (doc)"
      ],
      "metadata": {
        "colab": {
          "base_uri": "https://localhost:8080/"
        },
        "id": "PfScoyChtBUF",
        "outputId": "d384fe0f-2fbc-4956-ec8a-cabfbfb54b70"
      },
      "execution_count": null,
      "outputs": [
        {
          "output_type": "stream",
          "name": "stdout",
          "text": [
            "The United States of America (U.S.A. or USA), commonly known as the United States (U.S. or US) or simply America, is a country primarily located in North America. It consists of 50 states, a federal district, five major unincorporated territories, 326 Indian reservations, and nine minor outlying islands.[g] At nearly 3.8 million square miles (9.8 million square kilometers), it is the world's fourth-largest country by land area and third-largest by total area. The United States shares land borders with Canada to the north and Mexico to the south as well as maritime borders with the Bahamas, Cuba, and Russia, among others.[h] With more than 331 million people, it is the third most populous country in the world. The national capital is Washington, D.C., and the most populous city and financial center is New York City.\n",
            "\n",
            "Paleo-Indians migrated from Siberia to the North American mainland at least 12,000 years ago, and European colonization began in the 16th century. The United States emerged from the Thirteen British Colonies established along the East Coast. Disputes with Great Britain over taxation and political representation led to the American Revolutionary War (1775–1783), which established the nation's independence. In the late 18th century, the U.S. began expanding across North America, gradually obtaining new territories, sometimes through war, frequently displacing Native Americans, and admitting new states. This was strongly related to belief in manifest destiny, and by 1848, the United States spanned the continent from east to west. Slavery was legal in the southern United States until the second half of the 19th century, when the American Civil War led to its abolition. The Spanish–American War and World War I established the U.S. as a world power, and the aftermath of World War II left the United States and the Soviet Union as the world's two superpowers. During the Cold War, both sides fought in the Korean and Vietnam Wars but avoided direct military conflict. They competed in the Space Race, culminating in the 1969 American spaceflight that first landed humans on the Moon. The Soviet Union's dissolution in 1991 ended the Cold War, leaving the United States as the world's sole superpower of the post–Cold War era.\n",
            "\n",
            "The United States is a federal presidential-constitutional republic with three separate branches of government, including a bicameral legislature. It is a founding member of the United Nations, World Bank, International Monetary Fund, Organization of American States, NATO, and other international organizations. It is a permanent member of the United Nations Security Council. Considered a melting pot of cultures and ethnicities, its population has been profoundly shaped by centuries of immigration. The United States is a liberal democracy; it ranks high in international measures of economic freedom, quality of life, education, and human rights; and it has low levels of perceived corruption. Unlike other western democracies, the United States lacks universal health care, retains capital punishment, and has high levels of incarceration and inequality.[24]\n",
            "\n",
            "The United States is a highly developed country, and its economy accounts for approximately a quarter of global GDP and is the world's largest by GDP at market exchange rates. By value, the United States is the world's largest importer and second-largest exporter of goods. Although its population is only 4.2% of the world's total, it holds over 30% of the total wealth in the world, the largest share held by any country. Making up more than a third of global military spending, it is the foremost military power in the world and a leading political, cultural, and scientific force.[25]\n"
          ]
        }
      ]
    },
    {
      "cell_type": "code",
      "source": [
        "print (len(text)) #mengukur panjang huruf\n",
        "print (len(doc)) #mengukur panjang kata"
      ],
      "metadata": {
        "colab": {
          "base_uri": "https://localhost:8080/"
        },
        "id": "9UioKXSNtFzN",
        "outputId": "2e28684e-afd9-425b-c60d-b2fc4d517e10"
      },
      "execution_count": null,
      "outputs": [
        {
          "output_type": "stream",
          "name": "stdout",
          "text": [
            "3717\n",
            "694\n"
          ]
        }
      ]
    },
    {
      "cell_type": "code",
      "source": [
        "for token in text[0:10]: #membaca text 1 sd 10\n",
        "  print (token)"
      ],
      "metadata": {
        "colab": {
          "base_uri": "https://localhost:8080/"
        },
        "id": "Cr_92nFwtRgF",
        "outputId": "387651eb-31a1-4fa1-e343-289a7a3a7754"
      },
      "execution_count": null,
      "outputs": [
        {
          "output_type": "stream",
          "name": "stdout",
          "text": [
            "T\n",
            "h\n",
            "e\n",
            " \n",
            "U\n",
            "n\n",
            "i\n",
            "t\n",
            "e\n",
            "d\n"
          ]
        }
      ]
    },
    {
      "cell_type": "code",
      "source": [
        "for token in doc[0:10]: #membaca kata 1 sd 10\n",
        "  print (token)"
      ],
      "metadata": {
        "colab": {
          "base_uri": "https://localhost:8080/"
        },
        "id": "2sMu6gZvthA0",
        "outputId": "8c3ff7f2-fe15-4dc7-e9fc-223760bbddb8"
      },
      "execution_count": null,
      "outputs": [
        {
          "output_type": "stream",
          "name": "stdout",
          "text": [
            "The\n",
            "United\n",
            "States\n",
            "of\n",
            "America\n",
            "(\n",
            "U.S.A.\n",
            "or\n",
            "USA\n",
            ")\n"
          ]
        }
      ]
    },
    {
      "cell_type": "code",
      "source": [
        "for token in text.split()[:10]: #membaca kata tanpa simbol\n",
        "  print (token)"
      ],
      "metadata": {
        "colab": {
          "base_uri": "https://localhost:8080/"
        },
        "id": "C2lcLi9ltoak",
        "outputId": "829fd78b-5e28-452b-be2f-8d5414e443f0"
      },
      "execution_count": null,
      "outputs": [
        {
          "output_type": "stream",
          "name": "stdout",
          "text": [
            "The\n",
            "United\n",
            "States\n",
            "of\n",
            "America\n",
            "(U.S.A.\n",
            "or\n",
            "USA),\n",
            "commonly\n",
            "known\n"
          ]
        }
      ]
    },
    {
      "cell_type": "code",
      "source": [
        "for sent in doc.sents: #membaca data per paragraf\n",
        "  print (sent)"
      ],
      "metadata": {
        "colab": {
          "base_uri": "https://localhost:8080/"
        },
        "id": "CU80liIkuCGl",
        "outputId": "e7a777ff-d748-4442-e106-d30b74d244cb"
      },
      "execution_count": null,
      "outputs": [
        {
          "output_type": "stream",
          "name": "stdout",
          "text": [
            "The United States of America (U.S.A. or USA), commonly known as the United States (U.S. or US) or simply America, is a country primarily located in North America.\n",
            "It consists of 50 states, a federal district, five major unincorporated territories, 326 Indian reservations, and nine minor outlying islands.[g]\n",
            "At nearly 3.8 million square miles (9.8 million square kilometers), it is the world's fourth-largest country by land area and third-largest by total area.\n",
            "The United States shares land borders with Canada to the north and Mexico to the south as well as maritime borders with the Bahamas, Cuba, and Russia, among others.[h]\n",
            "With more than 331 million people, it is the third most populous country in the world.\n",
            "The national capital is Washington, D.C., and the most populous city and financial center is New York City.\n",
            "\n",
            "\n",
            "Paleo-Indians migrated from Siberia to the North American mainland at least 12,000 years ago, and European colonization began in the 16th century.\n",
            "The United States emerged from the Thirteen British Colonies established along the East Coast.\n",
            "Disputes with Great Britain over taxation and political representation led to the American Revolutionary War (1775–1783), which established the nation's independence.\n",
            "In the late 18th century, the U.S. began expanding across North America, gradually obtaining new territories, sometimes through war, frequently displacing Native Americans, and admitting new states.\n",
            "This was strongly related to belief in manifest destiny, and by 1848, the United States spanned the continent from east to west.\n",
            "Slavery was legal in the southern United States until the second half of the 19th century, when the American Civil War led to its abolition.\n",
            "The Spanish–American War and World War\n",
            "I established the U.S. as a world power, and the aftermath of World War II left the United States and the Soviet Union as the world's two superpowers.\n",
            "During the Cold War, both sides fought in the Korean and Vietnam Wars but avoided direct military conflict.\n",
            "They competed in the Space Race, culminating in the 1969 American spaceflight that first landed humans on the Moon.\n",
            "The Soviet Union's dissolution in 1991 ended the Cold War, leaving the United States as the world's sole superpower of the post–Cold War era.\n",
            "\n",
            "\n",
            "The United States is a federal presidential-constitutional republic with three separate branches of government, including a bicameral legislature.\n",
            "It is a founding member of the United Nations, World Bank, International Monetary Fund, Organization of American States, NATO, and other international organizations.\n",
            "It is a permanent member of the United Nations Security Council.\n",
            "Considered a melting pot of cultures and ethnicities, its population has been profoundly shaped by centuries of immigration.\n",
            "The United States is a liberal democracy; it ranks high in international measures of economic freedom, quality of life, education, and human rights; and it has low levels of perceived corruption.\n",
            "Unlike other western democracies, the United States lacks universal health care, retains capital punishment, and has high levels of incarceration and inequality.[24]\n",
            "\n",
            "\n",
            "The United States is a highly developed country, and its economy accounts for approximately a quarter of global GDP and is the world's largest by GDP at market exchange rates.\n",
            "By value, the United States is the world's largest importer and second-largest exporter of goods.\n",
            "Although its population is only 4.2% of the world's total, it holds over 30% of the total wealth in the world, the largest share held by any country.\n",
            "Making up more than a third of global military spending, it is the foremost military power in the world and a leading political, cultural, and scientific force.[25]\n"
          ]
        }
      ]
    },
    {
      "cell_type": "code",
      "source": [
        "sentence1 = list(doc.sents)[0] #membaca kalimat pertama dengan menggunakan list\n",
        "print (sentence1)"
      ],
      "metadata": {
        "colab": {
          "base_uri": "https://localhost:8080/"
        },
        "id": "A-HZfMtuuQLV",
        "outputId": "003c669b-2d5c-43a1-dafa-2a1cf11657cd"
      },
      "execution_count": null,
      "outputs": [
        {
          "output_type": "stream",
          "name": "stdout",
          "text": [
            "The United States of America (U.S.A. or USA), commonly known as the United States (U.S. or US) or simply America, is a country primarily located in North America.\n"
          ]
        }
      ]
    },
    {
      "cell_type": "code",
      "source": [
        "for token in doc[:10]:\n",
        "  print(token)"
      ],
      "metadata": {
        "colab": {
          "base_uri": "https://localhost:8080/"
        },
        "id": "LNg6YQDUue_M",
        "outputId": "7a58208e-de41-46f9-d303-ba2c367e9d81"
      },
      "execution_count": null,
      "outputs": [
        {
          "output_type": "stream",
          "name": "stdout",
          "text": [
            "The\n",
            "United\n",
            "States\n",
            "of\n",
            "America\n",
            "(\n",
            "U.S.A.\n",
            "or\n",
            "USA\n",
            ")\n"
          ]
        }
      ]
    },
    {
      "cell_type": "code",
      "source": [
        "token2 = sentence1[2] # membaca kata sesuai urutan\n",
        "print (token2)"
      ],
      "metadata": {
        "colab": {
          "base_uri": "https://localhost:8080/"
        },
        "id": "mGzan1cGvCbs",
        "outputId": "0b448c70-cc6a-48ae-dc98-025e84640eba"
      },
      "execution_count": null,
      "outputs": [
        {
          "output_type": "stream",
          "name": "stdout",
          "text": [
            "States\n"
          ]
        }
      ]
    },
    {
      "cell_type": "code",
      "source": [
        "token2.text #tokenisasi kata"
      ],
      "metadata": {
        "colab": {
          "base_uri": "https://localhost:8080/",
          "height": 35
        },
        "id": "cQmDIUnTvTVk",
        "outputId": "756ad84c-d846-4179-cfce-6b2f8ea10e10"
      },
      "execution_count": null,
      "outputs": [
        {
          "output_type": "execute_result",
          "data": {
            "text/plain": [
              "'States'"
            ],
            "application/vnd.google.colaboratory.intrinsic+json": {
              "type": "string"
            }
          },
          "metadata": {},
          "execution_count": 45
        }
      ]
    },
    {
      "cell_type": "code",
      "source": [
        "token3 = sentence1[4]\n",
        "print (token3)"
      ],
      "metadata": {
        "colab": {
          "base_uri": "https://localhost:8080/"
        },
        "id": "TVGlZcZsvals",
        "outputId": "efc172ac-ba5a-4c08-8b07-0e06b284a006"
      },
      "execution_count": null,
      "outputs": [
        {
          "output_type": "stream",
          "name": "stdout",
          "text": [
            "America\n"
          ]
        }
      ]
    },
    {
      "cell_type": "code",
      "source": [
        "token3.text"
      ],
      "metadata": {
        "colab": {
          "base_uri": "https://localhost:8080/",
          "height": 35
        },
        "id": "KMwg_E10viz8",
        "outputId": "b33cf0de-2834-4cb2-bbde-788bf8138d99"
      },
      "execution_count": null,
      "outputs": [
        {
          "output_type": "execute_result",
          "data": {
            "text/plain": [
              "'America'"
            ],
            "application/vnd.google.colaboratory.intrinsic+json": {
              "type": "string"
            }
          },
          "metadata": {},
          "execution_count": 49
        }
      ]
    },
    {
      "cell_type": "code",
      "source": [
        "token2.left_edge"
      ],
      "metadata": {
        "colab": {
          "base_uri": "https://localhost:8080/"
        },
        "id": "9H6L_LjDvkrc",
        "outputId": "abe2e437-74df-4f38-d2f7-62775c3845b8"
      },
      "execution_count": null,
      "outputs": [
        {
          "output_type": "execute_result",
          "data": {
            "text/plain": [
              "The"
            ]
          },
          "metadata": {},
          "execution_count": 59
        }
      ]
    },
    {
      "cell_type": "code",
      "source": [
        "token2.right_edge"
      ],
      "metadata": {
        "colab": {
          "base_uri": "https://localhost:8080/"
        },
        "id": "lhGR7EORvqmc",
        "outputId": "66d64992-593c-47c7-942c-59affac46196"
      },
      "execution_count": null,
      "outputs": [
        {
          "output_type": "execute_result",
          "data": {
            "text/plain": [
              ","
            ]
          },
          "metadata": {},
          "execution_count": 54
        }
      ]
    },
    {
      "cell_type": "code",
      "source": [
        "token2.ent_type"
      ],
      "metadata": {
        "colab": {
          "base_uri": "https://localhost:8080/"
        },
        "id": "KbUwdKTTvx9d",
        "outputId": "39d74b6e-1ab8-48fb-fbf9-113df76a57f4"
      },
      "execution_count": null,
      "outputs": [
        {
          "output_type": "execute_result",
          "data": {
            "text/plain": [
              "384"
            ]
          },
          "metadata": {},
          "execution_count": 56
        }
      ]
    },
    {
      "cell_type": "code",
      "source": [
        "token2.ent_type_"
      ],
      "metadata": {
        "colab": {
          "base_uri": "https://localhost:8080/",
          "height": 35
        },
        "id": "WnTHMKj7v0iV",
        "outputId": "cb05f5a3-50ec-4a08-ae63-a96c660cda6e"
      },
      "execution_count": null,
      "outputs": [
        {
          "output_type": "execute_result",
          "data": {
            "text/plain": [
              "'GPE'"
            ],
            "application/vnd.google.colaboratory.intrinsic+json": {
              "type": "string"
            }
          },
          "metadata": {},
          "execution_count": 60
        }
      ]
    },
    {
      "cell_type": "code",
      "source": [
        "token2.ent_iob_"
      ],
      "metadata": {
        "colab": {
          "base_uri": "https://localhost:8080/",
          "height": 35
        },
        "id": "u_fHM_wSwGSE",
        "outputId": "c6256a7d-d5ca-495d-8d16-a922fcd7bcdb"
      },
      "execution_count": null,
      "outputs": [
        {
          "output_type": "execute_result",
          "data": {
            "text/plain": [
              "'I'"
            ],
            "application/vnd.google.colaboratory.intrinsic+json": {
              "type": "string"
            }
          },
          "metadata": {},
          "execution_count": 62
        }
      ]
    },
    {
      "cell_type": "code",
      "source": [
        "token2.lemma_"
      ],
      "metadata": {
        "colab": {
          "base_uri": "https://localhost:8080/",
          "height": 35
        },
        "id": "hVkUXBD0wRcM",
        "outputId": "a9c3c699-b3fa-4d1a-9f86-d24261a71834"
      },
      "execution_count": null,
      "outputs": [
        {
          "output_type": "execute_result",
          "data": {
            "text/plain": [
              "'States'"
            ],
            "application/vnd.google.colaboratory.intrinsic+json": {
              "type": "string"
            }
          },
          "metadata": {},
          "execution_count": 64
        }
      ]
    },
    {
      "cell_type": "code",
      "source": [
        "sentence1[12].lemma_"
      ],
      "metadata": {
        "colab": {
          "base_uri": "https://localhost:8080/",
          "height": 35
        },
        "id": "Iuh9OagTwbd8",
        "outputId": "9080a3bb-fa81-493b-f095-9e01057f8698"
      },
      "execution_count": null,
      "outputs": [
        {
          "output_type": "execute_result",
          "data": {
            "text/plain": [
              "'know'"
            ],
            "application/vnd.google.colaboratory.intrinsic+json": {
              "type": "string"
            }
          },
          "metadata": {},
          "execution_count": 66
        }
      ]
    },
    {
      "cell_type": "code",
      "source": [
        "print(sentence1)"
      ],
      "metadata": {
        "colab": {
          "base_uri": "https://localhost:8080/"
        },
        "id": "w1Ok5GY-wg4M",
        "outputId": "a0ebe7d2-0f33-471f-9d97-25027d826c8e"
      },
      "execution_count": null,
      "outputs": [
        {
          "output_type": "stream",
          "name": "stdout",
          "text": [
            "The United States of America (U.S.A. or USA), commonly known as the United States (U.S. or US) or simply America, is a country primarily located in North America.\n"
          ]
        }
      ]
    },
    {
      "cell_type": "code",
      "source": [
        "print (sentence1[12])"
      ],
      "metadata": {
        "colab": {
          "base_uri": "https://localhost:8080/"
        },
        "id": "i5LBFyYCwlQc",
        "outputId": "6fbc1709-106f-4ad8-e251-90c9dbe9b513"
      },
      "execution_count": null,
      "outputs": [
        {
          "output_type": "stream",
          "name": "stdout",
          "text": [
            "known\n"
          ]
        }
      ]
    },
    {
      "cell_type": "code",
      "source": [
        "token2.pos_"
      ],
      "metadata": {
        "colab": {
          "base_uri": "https://localhost:8080/",
          "height": 35
        },
        "id": "jm3N5a0rwoj0",
        "outputId": "25d31e5a-e348-4760-ee9c-f1bead166920"
      },
      "execution_count": null,
      "outputs": [
        {
          "output_type": "execute_result",
          "data": {
            "text/plain": [
              "'PROPN'"
            ],
            "application/vnd.google.colaboratory.intrinsic+json": {
              "type": "string"
            }
          },
          "metadata": {},
          "execution_count": 75
        }
      ]
    },
    {
      "cell_type": "code",
      "source": [
        "token2.dep_"
      ],
      "metadata": {
        "colab": {
          "base_uri": "https://localhost:8080/",
          "height": 35
        },
        "id": "aWnDDt9DxD2j",
        "outputId": "56e7880a-6456-410d-fd07-76ca3b3010a8"
      },
      "execution_count": null,
      "outputs": [
        {
          "output_type": "execute_result",
          "data": {
            "text/plain": [
              "'nsubj'"
            ],
            "application/vnd.google.colaboratory.intrinsic+json": {
              "type": "string"
            }
          },
          "metadata": {},
          "execution_count": 77
        }
      ]
    },
    {
      "cell_type": "code",
      "source": [
        "token2.lang_"
      ],
      "metadata": {
        "colab": {
          "base_uri": "https://localhost:8080/",
          "height": 35
        },
        "id": "h4O7EJEDxGmL",
        "outputId": "b70bda43-6d2f-4a88-cc21-aa7a3f4361f9"
      },
      "execution_count": null,
      "outputs": [
        {
          "output_type": "execute_result",
          "data": {
            "text/plain": [
              "'en'"
            ],
            "application/vnd.google.colaboratory.intrinsic+json": {
              "type": "string"
            }
          },
          "metadata": {},
          "execution_count": 79
        }
      ]
    },
    {
      "cell_type": "code",
      "source": [
        "text = \"Mike enjoys playing football at field.\""
      ],
      "metadata": {
        "id": "237XoAn4xaFD"
      },
      "execution_count": null,
      "outputs": []
    },
    {
      "cell_type": "code",
      "source": [
        "doc2 = nlp(text)\n",
        "print (doc2)"
      ],
      "metadata": {
        "colab": {
          "base_uri": "https://localhost:8080/"
        },
        "id": "2DUm-SZOxd5U",
        "outputId": "cdec2e4c-372b-4c62-b273-ff35a469d8af"
      },
      "execution_count": null,
      "outputs": [
        {
          "output_type": "stream",
          "name": "stdout",
          "text": [
            "Mike enjoys playing football at field.\n"
          ]
        }
      ]
    },
    {
      "cell_type": "code",
      "source": [
        "for token in doc2:\n",
        "  print (token.text, token.pos_, token.dep_)"
      ],
      "metadata": {
        "colab": {
          "base_uri": "https://localhost:8080/"
        },
        "id": "-4RVhfBdxmBM",
        "outputId": "0216470c-b8e0-4467-da2a-995b959bf992"
      },
      "execution_count": null,
      "outputs": [
        {
          "output_type": "stream",
          "name": "stdout",
          "text": [
            "Mike PROPN nsubj\n",
            "enjoys VERB ROOT\n",
            "playing VERB xcomp\n",
            "football NOUN dobj\n",
            "at ADP prep\n",
            "field NOUN pobj\n",
            ". PUNCT punct\n"
          ]
        }
      ]
    },
    {
      "cell_type": "code",
      "source": [
        "from spacy import displacy\n",
        "displacy.render (doc2, style=\"dep\")"
      ],
      "metadata": {
        "colab": {
          "base_uri": "https://localhost:8080/",
          "height": 192
        },
        "id": "u45AuxNEyHUr",
        "outputId": "c5708741-8319-457e-fd3b-716994489cf6"
      },
      "execution_count": null,
      "outputs": [
        {
          "output_type": "execute_result",
          "data": {
            "text/plain": [
              "'<svg xmlns=\"http://www.w3.org/2000/svg\" xmlns:xlink=\"http://www.w3.org/1999/xlink\" xml:lang=\"en\" id=\"265b58130406432d94b5866d9370a009-0\" class=\"displacy\" width=\"1100\" height=\"312.0\" direction=\"ltr\" style=\"max-width: none; height: 312.0px; color: #000000; background: #ffffff; font-family: Arial; direction: ltr\">\\n<text class=\"displacy-token\" fill=\"currentColor\" text-anchor=\"middle\" y=\"222.0\">\\n    <tspan class=\"displacy-word\" fill=\"currentColor\" x=\"50\">Mike</tspan>\\n    <tspan class=\"displacy-tag\" dy=\"2em\" fill=\"currentColor\" x=\"50\">PROPN</tspan>\\n</text>\\n\\n<text class=\"displacy-token\" fill=\"currentColor\" text-anchor=\"middle\" y=\"222.0\">\\n    <tspan class=\"displacy-word\" fill=\"currentColor\" x=\"225\">enjoys</tspan>\\n    <tspan class=\"displacy-tag\" dy=\"2em\" fill=\"currentColor\" x=\"225\">VERB</tspan>\\n</text>\\n\\n<text class=\"displacy-token\" fill=\"currentColor\" text-anchor=\"middle\" y=\"222.0\">\\n    <tspan class=\"displacy-word\" fill=\"currentColor\" x=\"400\">playing</tspan>\\n    <tspan class=\"displacy-tag\" dy=\"2em\" fill=\"currentColor\" x=\"400\">VERB</tspan>\\n</text>\\n\\n<text class=\"displacy-token\" fill=\"currentColor\" text-anchor=\"middle\" y=\"222.0\">\\n    <tspan class=\"displacy-word\" fill=\"currentColor\" x=\"575\">football</tspan>\\n    <tspan class=\"displacy-tag\" dy=\"2em\" fill=\"currentColor\" x=\"575\">NOUN</tspan>\\n</text>\\n\\n<text class=\"displacy-token\" fill=\"currentColor\" text-anchor=\"middle\" y=\"222.0\">\\n    <tspan class=\"displacy-word\" fill=\"currentColor\" x=\"750\">at</tspan>\\n    <tspan class=\"displacy-tag\" dy=\"2em\" fill=\"currentColor\" x=\"750\">ADP</tspan>\\n</text>\\n\\n<text class=\"displacy-token\" fill=\"currentColor\" text-anchor=\"middle\" y=\"222.0\">\\n    <tspan class=\"displacy-word\" fill=\"currentColor\" x=\"925\">field.</tspan>\\n    <tspan class=\"displacy-tag\" dy=\"2em\" fill=\"currentColor\" x=\"925\">NOUN</tspan>\\n</text>\\n\\n<g class=\"displacy-arrow\">\\n    <path class=\"displacy-arc\" id=\"arrow-265b58130406432d94b5866d9370a009-0-0\" stroke-width=\"2px\" d=\"M70,177.0 C70,89.5 220.0,89.5 220.0,177.0\" fill=\"none\" stroke=\"currentColor\"/>\\n    <text dy=\"1.25em\" style=\"font-size: 0.8em; letter-spacing: 1px\">\\n        <textPath xlink:href=\"#arrow-265b58130406432d94b5866d9370a009-0-0\" class=\"displacy-label\" startOffset=\"50%\" side=\"left\" fill=\"currentColor\" text-anchor=\"middle\">nsubj</textPath>\\n    </text>\\n    <path class=\"displacy-arrowhead\" d=\"M70,179.0 L62,167.0 78,167.0\" fill=\"currentColor\"/>\\n</g>\\n\\n<g class=\"displacy-arrow\">\\n    <path class=\"displacy-arc\" id=\"arrow-265b58130406432d94b5866d9370a009-0-1\" stroke-width=\"2px\" d=\"M245,177.0 C245,89.5 395.0,89.5 395.0,177.0\" fill=\"none\" stroke=\"currentColor\"/>\\n    <text dy=\"1.25em\" style=\"font-size: 0.8em; letter-spacing: 1px\">\\n        <textPath xlink:href=\"#arrow-265b58130406432d94b5866d9370a009-0-1\" class=\"displacy-label\" startOffset=\"50%\" side=\"left\" fill=\"currentColor\" text-anchor=\"middle\">xcomp</textPath>\\n    </text>\\n    <path class=\"displacy-arrowhead\" d=\"M395.0,179.0 L403.0,167.0 387.0,167.0\" fill=\"currentColor\"/>\\n</g>\\n\\n<g class=\"displacy-arrow\">\\n    <path class=\"displacy-arc\" id=\"arrow-265b58130406432d94b5866d9370a009-0-2\" stroke-width=\"2px\" d=\"M420,177.0 C420,89.5 570.0,89.5 570.0,177.0\" fill=\"none\" stroke=\"currentColor\"/>\\n    <text dy=\"1.25em\" style=\"font-size: 0.8em; letter-spacing: 1px\">\\n        <textPath xlink:href=\"#arrow-265b58130406432d94b5866d9370a009-0-2\" class=\"displacy-label\" startOffset=\"50%\" side=\"left\" fill=\"currentColor\" text-anchor=\"middle\">dobj</textPath>\\n    </text>\\n    <path class=\"displacy-arrowhead\" d=\"M570.0,179.0 L578.0,167.0 562.0,167.0\" fill=\"currentColor\"/>\\n</g>\\n\\n<g class=\"displacy-arrow\">\\n    <path class=\"displacy-arc\" id=\"arrow-265b58130406432d94b5866d9370a009-0-3\" stroke-width=\"2px\" d=\"M420,177.0 C420,2.0 750.0,2.0 750.0,177.0\" fill=\"none\" stroke=\"currentColor\"/>\\n    <text dy=\"1.25em\" style=\"font-size: 0.8em; letter-spacing: 1px\">\\n        <textPath xlink:href=\"#arrow-265b58130406432d94b5866d9370a009-0-3\" class=\"displacy-label\" startOffset=\"50%\" side=\"left\" fill=\"currentColor\" text-anchor=\"middle\">prep</textPath>\\n    </text>\\n    <path class=\"displacy-arrowhead\" d=\"M750.0,179.0 L758.0,167.0 742.0,167.0\" fill=\"currentColor\"/>\\n</g>\\n\\n<g class=\"displacy-arrow\">\\n    <path class=\"displacy-arc\" id=\"arrow-265b58130406432d94b5866d9370a009-0-4\" stroke-width=\"2px\" d=\"M770,177.0 C770,89.5 920.0,89.5 920.0,177.0\" fill=\"none\" stroke=\"currentColor\"/>\\n    <text dy=\"1.25em\" style=\"font-size: 0.8em; letter-spacing: 1px\">\\n        <textPath xlink:href=\"#arrow-265b58130406432d94b5866d9370a009-0-4\" class=\"displacy-label\" startOffset=\"50%\" side=\"left\" fill=\"currentColor\" text-anchor=\"middle\">pobj</textPath>\\n    </text>\\n    <path class=\"displacy-arrowhead\" d=\"M920.0,179.0 L928.0,167.0 912.0,167.0\" fill=\"currentColor\"/>\\n</g>\\n</svg>'"
            ],
            "application/vnd.google.colaboratory.intrinsic+json": {
              "type": "string"
            }
          },
          "metadata": {},
          "execution_count": 98
        }
      ]
    },
    {
      "cell_type": "code",
      "source": [
        "from spacy import displacy \n",
        "displacy.render(sentence1, style=\"dep\")"
      ],
      "metadata": {
        "colab": {
          "base_uri": "https://localhost:8080/",
          "height": 192
        },
        "id": "ompNxw32ytpU",
        "outputId": "87d011e5-9761-40c9-8e32-89f2df9cef00"
      },
      "execution_count": null,
      "outputs": [
        {
          "output_type": "execute_result",
          "data": {
            "text/plain": [
              "'<svg xmlns=\"http://www.w3.org/2000/svg\" xmlns:xlink=\"http://www.w3.org/1999/xlink\" xml:lang=\"en\" id=\"9cd5c4ed760d43ba959e7def708cb8f1-0\" class=\"displacy\" width=\"4950\" height=\"749.5\" direction=\"ltr\" style=\"max-width: none; height: 749.5px; color: #000000; background: #ffffff; font-family: Arial; direction: ltr\">\\n<text class=\"displacy-token\" fill=\"currentColor\" text-anchor=\"middle\" y=\"659.5\">\\n    <tspan class=\"displacy-word\" fill=\"currentColor\" x=\"50\">The</tspan>\\n    <tspan class=\"displacy-tag\" dy=\"2em\" fill=\"currentColor\" x=\"50\">DET</tspan>\\n</text>\\n\\n<text class=\"displacy-token\" fill=\"currentColor\" text-anchor=\"middle\" y=\"659.5\">\\n    <tspan class=\"displacy-word\" fill=\"currentColor\" x=\"225\">United</tspan>\\n    <tspan class=\"displacy-tag\" dy=\"2em\" fill=\"currentColor\" x=\"225\">PROPN</tspan>\\n</text>\\n\\n<text class=\"displacy-token\" fill=\"currentColor\" text-anchor=\"middle\" y=\"659.5\">\\n    <tspan class=\"displacy-word\" fill=\"currentColor\" x=\"400\">States</tspan>\\n    <tspan class=\"displacy-tag\" dy=\"2em\" fill=\"currentColor\" x=\"400\">PROPN</tspan>\\n</text>\\n\\n<text class=\"displacy-token\" fill=\"currentColor\" text-anchor=\"middle\" y=\"659.5\">\\n    <tspan class=\"displacy-word\" fill=\"currentColor\" x=\"575\">of</tspan>\\n    <tspan class=\"displacy-tag\" dy=\"2em\" fill=\"currentColor\" x=\"575\">ADP</tspan>\\n</text>\\n\\n<text class=\"displacy-token\" fill=\"currentColor\" text-anchor=\"middle\" y=\"659.5\">\\n    <tspan class=\"displacy-word\" fill=\"currentColor\" x=\"750\">America (</tspan>\\n    <tspan class=\"displacy-tag\" dy=\"2em\" fill=\"currentColor\" x=\"750\">PROPN</tspan>\\n</text>\\n\\n<text class=\"displacy-token\" fill=\"currentColor\" text-anchor=\"middle\" y=\"659.5\">\\n    <tspan class=\"displacy-word\" fill=\"currentColor\" x=\"925\">U.S.A.</tspan>\\n    <tspan class=\"displacy-tag\" dy=\"2em\" fill=\"currentColor\" x=\"925\">PROPN</tspan>\\n</text>\\n\\n<text class=\"displacy-token\" fill=\"currentColor\" text-anchor=\"middle\" y=\"659.5\">\\n    <tspan class=\"displacy-word\" fill=\"currentColor\" x=\"1100\">or</tspan>\\n    <tspan class=\"displacy-tag\" dy=\"2em\" fill=\"currentColor\" x=\"1100\">CCONJ</tspan>\\n</text>\\n\\n<text class=\"displacy-token\" fill=\"currentColor\" text-anchor=\"middle\" y=\"659.5\">\\n    <tspan class=\"displacy-word\" fill=\"currentColor\" x=\"1275\">USA),</tspan>\\n    <tspan class=\"displacy-tag\" dy=\"2em\" fill=\"currentColor\" x=\"1275\">PROPN</tspan>\\n</text>\\n\\n<text class=\"displacy-token\" fill=\"currentColor\" text-anchor=\"middle\" y=\"659.5\">\\n    <tspan class=\"displacy-word\" fill=\"currentColor\" x=\"1450\">commonly</tspan>\\n    <tspan class=\"displacy-tag\" dy=\"2em\" fill=\"currentColor\" x=\"1450\">ADV</tspan>\\n</text>\\n\\n<text class=\"displacy-token\" fill=\"currentColor\" text-anchor=\"middle\" y=\"659.5\">\\n    <tspan class=\"displacy-word\" fill=\"currentColor\" x=\"1625\">known</tspan>\\n    <tspan class=\"displacy-tag\" dy=\"2em\" fill=\"currentColor\" x=\"1625\">VERB</tspan>\\n</text>\\n\\n<text class=\"displacy-token\" fill=\"currentColor\" text-anchor=\"middle\" y=\"659.5\">\\n    <tspan class=\"displacy-word\" fill=\"currentColor\" x=\"1800\">as</tspan>\\n    <tspan class=\"displacy-tag\" dy=\"2em\" fill=\"currentColor\" x=\"1800\">SCONJ</tspan>\\n</text>\\n\\n<text class=\"displacy-token\" fill=\"currentColor\" text-anchor=\"middle\" y=\"659.5\">\\n    <tspan class=\"displacy-word\" fill=\"currentColor\" x=\"1975\">the</tspan>\\n    <tspan class=\"displacy-tag\" dy=\"2em\" fill=\"currentColor\" x=\"1975\">DET</tspan>\\n</text>\\n\\n<text class=\"displacy-token\" fill=\"currentColor\" text-anchor=\"middle\" y=\"659.5\">\\n    <tspan class=\"displacy-word\" fill=\"currentColor\" x=\"2150\">United</tspan>\\n    <tspan class=\"displacy-tag\" dy=\"2em\" fill=\"currentColor\" x=\"2150\">PROPN</tspan>\\n</text>\\n\\n<text class=\"displacy-token\" fill=\"currentColor\" text-anchor=\"middle\" y=\"659.5\">\\n    <tspan class=\"displacy-word\" fill=\"currentColor\" x=\"2325\">States (</tspan>\\n    <tspan class=\"displacy-tag\" dy=\"2em\" fill=\"currentColor\" x=\"2325\">PROPN</tspan>\\n</text>\\n\\n<text class=\"displacy-token\" fill=\"currentColor\" text-anchor=\"middle\" y=\"659.5\">\\n    <tspan class=\"displacy-word\" fill=\"currentColor\" x=\"2500\">U.S.</tspan>\\n    <tspan class=\"displacy-tag\" dy=\"2em\" fill=\"currentColor\" x=\"2500\">PROPN</tspan>\\n</text>\\n\\n<text class=\"displacy-token\" fill=\"currentColor\" text-anchor=\"middle\" y=\"659.5\">\\n    <tspan class=\"displacy-word\" fill=\"currentColor\" x=\"2675\">or</tspan>\\n    <tspan class=\"displacy-tag\" dy=\"2em\" fill=\"currentColor\" x=\"2675\">CCONJ</tspan>\\n</text>\\n\\n<text class=\"displacy-token\" fill=\"currentColor\" text-anchor=\"middle\" y=\"659.5\">\\n    <tspan class=\"displacy-word\" fill=\"currentColor\" x=\"2850\">US)</tspan>\\n    <tspan class=\"displacy-tag\" dy=\"2em\" fill=\"currentColor\" x=\"2850\">PROPN</tspan>\\n</text>\\n\\n<text class=\"displacy-token\" fill=\"currentColor\" text-anchor=\"middle\" y=\"659.5\">\\n    <tspan class=\"displacy-word\" fill=\"currentColor\" x=\"3025\">or</tspan>\\n    <tspan class=\"displacy-tag\" dy=\"2em\" fill=\"currentColor\" x=\"3025\">CCONJ</tspan>\\n</text>\\n\\n<text class=\"displacy-token\" fill=\"currentColor\" text-anchor=\"middle\" y=\"659.5\">\\n    <tspan class=\"displacy-word\" fill=\"currentColor\" x=\"3200\">simply</tspan>\\n    <tspan class=\"displacy-tag\" dy=\"2em\" fill=\"currentColor\" x=\"3200\">ADV</tspan>\\n</text>\\n\\n<text class=\"displacy-token\" fill=\"currentColor\" text-anchor=\"middle\" y=\"659.5\">\\n    <tspan class=\"displacy-word\" fill=\"currentColor\" x=\"3375\">America,</tspan>\\n    <tspan class=\"displacy-tag\" dy=\"2em\" fill=\"currentColor\" x=\"3375\">PROPN</tspan>\\n</text>\\n\\n<text class=\"displacy-token\" fill=\"currentColor\" text-anchor=\"middle\" y=\"659.5\">\\n    <tspan class=\"displacy-word\" fill=\"currentColor\" x=\"3550\">is</tspan>\\n    <tspan class=\"displacy-tag\" dy=\"2em\" fill=\"currentColor\" x=\"3550\">AUX</tspan>\\n</text>\\n\\n<text class=\"displacy-token\" fill=\"currentColor\" text-anchor=\"middle\" y=\"659.5\">\\n    <tspan class=\"displacy-word\" fill=\"currentColor\" x=\"3725\">a</tspan>\\n    <tspan class=\"displacy-tag\" dy=\"2em\" fill=\"currentColor\" x=\"3725\">DET</tspan>\\n</text>\\n\\n<text class=\"displacy-token\" fill=\"currentColor\" text-anchor=\"middle\" y=\"659.5\">\\n    <tspan class=\"displacy-word\" fill=\"currentColor\" x=\"3900\">country</tspan>\\n    <tspan class=\"displacy-tag\" dy=\"2em\" fill=\"currentColor\" x=\"3900\">NOUN</tspan>\\n</text>\\n\\n<text class=\"displacy-token\" fill=\"currentColor\" text-anchor=\"middle\" y=\"659.5\">\\n    <tspan class=\"displacy-word\" fill=\"currentColor\" x=\"4075\">primarily</tspan>\\n    <tspan class=\"displacy-tag\" dy=\"2em\" fill=\"currentColor\" x=\"4075\">ADV</tspan>\\n</text>\\n\\n<text class=\"displacy-token\" fill=\"currentColor\" text-anchor=\"middle\" y=\"659.5\">\\n    <tspan class=\"displacy-word\" fill=\"currentColor\" x=\"4250\">located</tspan>\\n    <tspan class=\"displacy-tag\" dy=\"2em\" fill=\"currentColor\" x=\"4250\">VERB</tspan>\\n</text>\\n\\n<text class=\"displacy-token\" fill=\"currentColor\" text-anchor=\"middle\" y=\"659.5\">\\n    <tspan class=\"displacy-word\" fill=\"currentColor\" x=\"4425\">in</tspan>\\n    <tspan class=\"displacy-tag\" dy=\"2em\" fill=\"currentColor\" x=\"4425\">ADP</tspan>\\n</text>\\n\\n<text class=\"displacy-token\" fill=\"currentColor\" text-anchor=\"middle\" y=\"659.5\">\\n    <tspan class=\"displacy-word\" fill=\"currentColor\" x=\"4600\">North</tspan>\\n    <tspan class=\"displacy-tag\" dy=\"2em\" fill=\"currentColor\" x=\"4600\">PROPN</tspan>\\n</text>\\n\\n<text class=\"displacy-token\" fill=\"currentColor\" text-anchor=\"middle\" y=\"659.5\">\\n    <tspan class=\"displacy-word\" fill=\"currentColor\" x=\"4775\">America.</tspan>\\n    <tspan class=\"displacy-tag\" dy=\"2em\" fill=\"currentColor\" x=\"4775\">PROPN</tspan>\\n</text>\\n\\n<g class=\"displacy-arrow\">\\n    <path class=\"displacy-arc\" id=\"arrow-9cd5c4ed760d43ba959e7def708cb8f1-0-0\" stroke-width=\"2px\" d=\"M70,614.5 C70,439.5 375.0,439.5 375.0,614.5\" fill=\"none\" stroke=\"currentColor\"/>\\n    <text dy=\"1.25em\" style=\"font-size: 0.8em; letter-spacing: 1px\">\\n        <textPath xlink:href=\"#arrow-9cd5c4ed760d43ba959e7def708cb8f1-0-0\" class=\"displacy-label\" startOffset=\"50%\" side=\"left\" fill=\"currentColor\" text-anchor=\"middle\">det</textPath>\\n    </text>\\n    <path class=\"displacy-arrowhead\" d=\"M70,616.5 L62,604.5 78,604.5\" fill=\"currentColor\"/>\\n</g>\\n\\n<g class=\"displacy-arrow\">\\n    <path class=\"displacy-arc\" id=\"arrow-9cd5c4ed760d43ba959e7def708cb8f1-0-1\" stroke-width=\"2px\" d=\"M245,614.5 C245,527.0 370.0,527.0 370.0,614.5\" fill=\"none\" stroke=\"currentColor\"/>\\n    <text dy=\"1.25em\" style=\"font-size: 0.8em; letter-spacing: 1px\">\\n        <textPath xlink:href=\"#arrow-9cd5c4ed760d43ba959e7def708cb8f1-0-1\" class=\"displacy-label\" startOffset=\"50%\" side=\"left\" fill=\"currentColor\" text-anchor=\"middle\">compound</textPath>\\n    </text>\\n    <path class=\"displacy-arrowhead\" d=\"M245,616.5 L237,604.5 253,604.5\" fill=\"currentColor\"/>\\n</g>\\n\\n<g class=\"displacy-arrow\">\\n    <path class=\"displacy-arc\" id=\"arrow-9cd5c4ed760d43ba959e7def708cb8f1-0-2\" stroke-width=\"2px\" d=\"M420,614.5 C420,2.0 3550.0,2.0 3550.0,614.5\" fill=\"none\" stroke=\"currentColor\"/>\\n    <text dy=\"1.25em\" style=\"font-size: 0.8em; letter-spacing: 1px\">\\n        <textPath xlink:href=\"#arrow-9cd5c4ed760d43ba959e7def708cb8f1-0-2\" class=\"displacy-label\" startOffset=\"50%\" side=\"left\" fill=\"currentColor\" text-anchor=\"middle\">nsubj</textPath>\\n    </text>\\n    <path class=\"displacy-arrowhead\" d=\"M420,616.5 L412,604.5 428,604.5\" fill=\"currentColor\"/>\\n</g>\\n\\n<g class=\"displacy-arrow\">\\n    <path class=\"displacy-arc\" id=\"arrow-9cd5c4ed760d43ba959e7def708cb8f1-0-3\" stroke-width=\"2px\" d=\"M420,614.5 C420,527.0 545.0,527.0 545.0,614.5\" fill=\"none\" stroke=\"currentColor\"/>\\n    <text dy=\"1.25em\" style=\"font-size: 0.8em; letter-spacing: 1px\">\\n        <textPath xlink:href=\"#arrow-9cd5c4ed760d43ba959e7def708cb8f1-0-3\" class=\"displacy-label\" startOffset=\"50%\" side=\"left\" fill=\"currentColor\" text-anchor=\"middle\">prep</textPath>\\n    </text>\\n    <path class=\"displacy-arrowhead\" d=\"M545.0,616.5 L553.0,604.5 537.0,604.5\" fill=\"currentColor\"/>\\n</g>\\n\\n<g class=\"displacy-arrow\">\\n    <path class=\"displacy-arc\" id=\"arrow-9cd5c4ed760d43ba959e7def708cb8f1-0-4\" stroke-width=\"2px\" d=\"M595,614.5 C595,527.0 720.0,527.0 720.0,614.5\" fill=\"none\" stroke=\"currentColor\"/>\\n    <text dy=\"1.25em\" style=\"font-size: 0.8em; letter-spacing: 1px\">\\n        <textPath xlink:href=\"#arrow-9cd5c4ed760d43ba959e7def708cb8f1-0-4\" class=\"displacy-label\" startOffset=\"50%\" side=\"left\" fill=\"currentColor\" text-anchor=\"middle\">pobj</textPath>\\n    </text>\\n    <path class=\"displacy-arrowhead\" d=\"M720.0,616.5 L728.0,604.5 712.0,604.5\" fill=\"currentColor\"/>\\n</g>\\n\\n<g class=\"displacy-arrow\">\\n    <path class=\"displacy-arc\" id=\"arrow-9cd5c4ed760d43ba959e7def708cb8f1-0-5\" stroke-width=\"2px\" d=\"M420,614.5 C420,352.0 905.0,352.0 905.0,614.5\" fill=\"none\" stroke=\"currentColor\"/>\\n    <text dy=\"1.25em\" style=\"font-size: 0.8em; letter-spacing: 1px\">\\n        <textPath xlink:href=\"#arrow-9cd5c4ed760d43ba959e7def708cb8f1-0-5\" class=\"displacy-label\" startOffset=\"50%\" side=\"left\" fill=\"currentColor\" text-anchor=\"middle\">appos</textPath>\\n    </text>\\n    <path class=\"displacy-arrowhead\" d=\"M905.0,616.5 L913.0,604.5 897.0,604.5\" fill=\"currentColor\"/>\\n</g>\\n\\n<g class=\"displacy-arrow\">\\n    <path class=\"displacy-arc\" id=\"arrow-9cd5c4ed760d43ba959e7def708cb8f1-0-6\" stroke-width=\"2px\" d=\"M945,614.5 C945,527.0 1070.0,527.0 1070.0,614.5\" fill=\"none\" stroke=\"currentColor\"/>\\n    <text dy=\"1.25em\" style=\"font-size: 0.8em; letter-spacing: 1px\">\\n        <textPath xlink:href=\"#arrow-9cd5c4ed760d43ba959e7def708cb8f1-0-6\" class=\"displacy-label\" startOffset=\"50%\" side=\"left\" fill=\"currentColor\" text-anchor=\"middle\">cc</textPath>\\n    </text>\\n    <path class=\"displacy-arrowhead\" d=\"M1070.0,616.5 L1078.0,604.5 1062.0,604.5\" fill=\"currentColor\"/>\\n</g>\\n\\n<g class=\"displacy-arrow\">\\n    <path class=\"displacy-arc\" id=\"arrow-9cd5c4ed760d43ba959e7def708cb8f1-0-7\" stroke-width=\"2px\" d=\"M945,614.5 C945,439.5 1250.0,439.5 1250.0,614.5\" fill=\"none\" stroke=\"currentColor\"/>\\n    <text dy=\"1.25em\" style=\"font-size: 0.8em; letter-spacing: 1px\">\\n        <textPath xlink:href=\"#arrow-9cd5c4ed760d43ba959e7def708cb8f1-0-7\" class=\"displacy-label\" startOffset=\"50%\" side=\"left\" fill=\"currentColor\" text-anchor=\"middle\">conj</textPath>\\n    </text>\\n    <path class=\"displacy-arrowhead\" d=\"M1250.0,616.5 L1258.0,604.5 1242.0,604.5\" fill=\"currentColor\"/>\\n</g>\\n\\n<g class=\"displacy-arrow\">\\n    <path class=\"displacy-arc\" id=\"arrow-9cd5c4ed760d43ba959e7def708cb8f1-0-8\" stroke-width=\"2px\" d=\"M1470,614.5 C1470,527.0 1595.0,527.0 1595.0,614.5\" fill=\"none\" stroke=\"currentColor\"/>\\n    <text dy=\"1.25em\" style=\"font-size: 0.8em; letter-spacing: 1px\">\\n        <textPath xlink:href=\"#arrow-9cd5c4ed760d43ba959e7def708cb8f1-0-8\" class=\"displacy-label\" startOffset=\"50%\" side=\"left\" fill=\"currentColor\" text-anchor=\"middle\">advmod</textPath>\\n    </text>\\n    <path class=\"displacy-arrowhead\" d=\"M1470,616.5 L1462,604.5 1478,604.5\" fill=\"currentColor\"/>\\n</g>\\n\\n<g class=\"displacy-arrow\">\\n    <path class=\"displacy-arc\" id=\"arrow-9cd5c4ed760d43ba959e7def708cb8f1-0-9\" stroke-width=\"2px\" d=\"M420,614.5 C420,89.5 1620.0,89.5 1620.0,614.5\" fill=\"none\" stroke=\"currentColor\"/>\\n    <text dy=\"1.25em\" style=\"font-size: 0.8em; letter-spacing: 1px\">\\n        <textPath xlink:href=\"#arrow-9cd5c4ed760d43ba959e7def708cb8f1-0-9\" class=\"displacy-label\" startOffset=\"50%\" side=\"left\" fill=\"currentColor\" text-anchor=\"middle\">acl</textPath>\\n    </text>\\n    <path class=\"displacy-arrowhead\" d=\"M1620.0,616.5 L1628.0,604.5 1612.0,604.5\" fill=\"currentColor\"/>\\n</g>\\n\\n<g class=\"displacy-arrow\">\\n    <path class=\"displacy-arc\" id=\"arrow-9cd5c4ed760d43ba959e7def708cb8f1-0-10\" stroke-width=\"2px\" d=\"M1645,614.5 C1645,527.0 1770.0,527.0 1770.0,614.5\" fill=\"none\" stroke=\"currentColor\"/>\\n    <text dy=\"1.25em\" style=\"font-size: 0.8em; letter-spacing: 1px\">\\n        <textPath xlink:href=\"#arrow-9cd5c4ed760d43ba959e7def708cb8f1-0-10\" class=\"displacy-label\" startOffset=\"50%\" side=\"left\" fill=\"currentColor\" text-anchor=\"middle\">prep</textPath>\\n    </text>\\n    <path class=\"displacy-arrowhead\" d=\"M1770.0,616.5 L1778.0,604.5 1762.0,604.5\" fill=\"currentColor\"/>\\n</g>\\n\\n<g class=\"displacy-arrow\">\\n    <path class=\"displacy-arc\" id=\"arrow-9cd5c4ed760d43ba959e7def708cb8f1-0-11\" stroke-width=\"2px\" d=\"M1995,614.5 C1995,439.5 2300.0,439.5 2300.0,614.5\" fill=\"none\" stroke=\"currentColor\"/>\\n    <text dy=\"1.25em\" style=\"font-size: 0.8em; letter-spacing: 1px\">\\n        <textPath xlink:href=\"#arrow-9cd5c4ed760d43ba959e7def708cb8f1-0-11\" class=\"displacy-label\" startOffset=\"50%\" side=\"left\" fill=\"currentColor\" text-anchor=\"middle\">det</textPath>\\n    </text>\\n    <path class=\"displacy-arrowhead\" d=\"M1995,616.5 L1987,604.5 2003,604.5\" fill=\"currentColor\"/>\\n</g>\\n\\n<g class=\"displacy-arrow\">\\n    <path class=\"displacy-arc\" id=\"arrow-9cd5c4ed760d43ba959e7def708cb8f1-0-12\" stroke-width=\"2px\" d=\"M2170,614.5 C2170,527.0 2295.0,527.0 2295.0,614.5\" fill=\"none\" stroke=\"currentColor\"/>\\n    <text dy=\"1.25em\" style=\"font-size: 0.8em; letter-spacing: 1px\">\\n        <textPath xlink:href=\"#arrow-9cd5c4ed760d43ba959e7def708cb8f1-0-12\" class=\"displacy-label\" startOffset=\"50%\" side=\"left\" fill=\"currentColor\" text-anchor=\"middle\">compound</textPath>\\n    </text>\\n    <path class=\"displacy-arrowhead\" d=\"M2170,616.5 L2162,604.5 2178,604.5\" fill=\"currentColor\"/>\\n</g>\\n\\n<g class=\"displacy-arrow\">\\n    <path class=\"displacy-arc\" id=\"arrow-9cd5c4ed760d43ba959e7def708cb8f1-0-13\" stroke-width=\"2px\" d=\"M1820,614.5 C1820,352.0 2305.0,352.0 2305.0,614.5\" fill=\"none\" stroke=\"currentColor\"/>\\n    <text dy=\"1.25em\" style=\"font-size: 0.8em; letter-spacing: 1px\">\\n        <textPath xlink:href=\"#arrow-9cd5c4ed760d43ba959e7def708cb8f1-0-13\" class=\"displacy-label\" startOffset=\"50%\" side=\"left\" fill=\"currentColor\" text-anchor=\"middle\">pobj</textPath>\\n    </text>\\n    <path class=\"displacy-arrowhead\" d=\"M2305.0,616.5 L2313.0,604.5 2297.0,604.5\" fill=\"currentColor\"/>\\n</g>\\n\\n<g class=\"displacy-arrow\">\\n    <path class=\"displacy-arc\" id=\"arrow-9cd5c4ed760d43ba959e7def708cb8f1-0-14\" stroke-width=\"2px\" d=\"M2345,614.5 C2345,527.0 2470.0,527.0 2470.0,614.5\" fill=\"none\" stroke=\"currentColor\"/>\\n    <text dy=\"1.25em\" style=\"font-size: 0.8em; letter-spacing: 1px\">\\n        <textPath xlink:href=\"#arrow-9cd5c4ed760d43ba959e7def708cb8f1-0-14\" class=\"displacy-label\" startOffset=\"50%\" side=\"left\" fill=\"currentColor\" text-anchor=\"middle\">appos</textPath>\\n    </text>\\n    <path class=\"displacy-arrowhead\" d=\"M2470.0,616.5 L2478.0,604.5 2462.0,604.5\" fill=\"currentColor\"/>\\n</g>\\n\\n<g class=\"displacy-arrow\">\\n    <path class=\"displacy-arc\" id=\"arrow-9cd5c4ed760d43ba959e7def708cb8f1-0-15\" stroke-width=\"2px\" d=\"M2520,614.5 C2520,527.0 2645.0,527.0 2645.0,614.5\" fill=\"none\" stroke=\"currentColor\"/>\\n    <text dy=\"1.25em\" style=\"font-size: 0.8em; letter-spacing: 1px\">\\n        <textPath xlink:href=\"#arrow-9cd5c4ed760d43ba959e7def708cb8f1-0-15\" class=\"displacy-label\" startOffset=\"50%\" side=\"left\" fill=\"currentColor\" text-anchor=\"middle\">cc</textPath>\\n    </text>\\n    <path class=\"displacy-arrowhead\" d=\"M2645.0,616.5 L2653.0,604.5 2637.0,604.5\" fill=\"currentColor\"/>\\n</g>\\n\\n<g class=\"displacy-arrow\">\\n    <path class=\"displacy-arc\" id=\"arrow-9cd5c4ed760d43ba959e7def708cb8f1-0-16\" stroke-width=\"2px\" d=\"M2520,614.5 C2520,439.5 2825.0,439.5 2825.0,614.5\" fill=\"none\" stroke=\"currentColor\"/>\\n    <text dy=\"1.25em\" style=\"font-size: 0.8em; letter-spacing: 1px\">\\n        <textPath xlink:href=\"#arrow-9cd5c4ed760d43ba959e7def708cb8f1-0-16\" class=\"displacy-label\" startOffset=\"50%\" side=\"left\" fill=\"currentColor\" text-anchor=\"middle\">conj</textPath>\\n    </text>\\n    <path class=\"displacy-arrowhead\" d=\"M2825.0,616.5 L2833.0,604.5 2817.0,604.5\" fill=\"currentColor\"/>\\n</g>\\n\\n<g class=\"displacy-arrow\">\\n    <path class=\"displacy-arc\" id=\"arrow-9cd5c4ed760d43ba959e7def708cb8f1-0-17\" stroke-width=\"2px\" d=\"M2345,614.5 C2345,264.5 3010.0,264.5 3010.0,614.5\" fill=\"none\" stroke=\"currentColor\"/>\\n    <text dy=\"1.25em\" style=\"font-size: 0.8em; letter-spacing: 1px\">\\n        <textPath xlink:href=\"#arrow-9cd5c4ed760d43ba959e7def708cb8f1-0-17\" class=\"displacy-label\" startOffset=\"50%\" side=\"left\" fill=\"currentColor\" text-anchor=\"middle\">cc</textPath>\\n    </text>\\n    <path class=\"displacy-arrowhead\" d=\"M3010.0,616.5 L3018.0,604.5 3002.0,604.5\" fill=\"currentColor\"/>\\n</g>\\n\\n<g class=\"displacy-arrow\">\\n    <path class=\"displacy-arc\" id=\"arrow-9cd5c4ed760d43ba959e7def708cb8f1-0-18\" stroke-width=\"2px\" d=\"M3220,614.5 C3220,527.0 3345.0,527.0 3345.0,614.5\" fill=\"none\" stroke=\"currentColor\"/>\\n    <text dy=\"1.25em\" style=\"font-size: 0.8em; letter-spacing: 1px\">\\n        <textPath xlink:href=\"#arrow-9cd5c4ed760d43ba959e7def708cb8f1-0-18\" class=\"displacy-label\" startOffset=\"50%\" side=\"left\" fill=\"currentColor\" text-anchor=\"middle\">advmod</textPath>\\n    </text>\\n    <path class=\"displacy-arrowhead\" d=\"M3220,616.5 L3212,604.5 3228,604.5\" fill=\"currentColor\"/>\\n</g>\\n\\n<g class=\"displacy-arrow\">\\n    <path class=\"displacy-arc\" id=\"arrow-9cd5c4ed760d43ba959e7def708cb8f1-0-19\" stroke-width=\"2px\" d=\"M2345,614.5 C2345,177.0 3365.0,177.0 3365.0,614.5\" fill=\"none\" stroke=\"currentColor\"/>\\n    <text dy=\"1.25em\" style=\"font-size: 0.8em; letter-spacing: 1px\">\\n        <textPath xlink:href=\"#arrow-9cd5c4ed760d43ba959e7def708cb8f1-0-19\" class=\"displacy-label\" startOffset=\"50%\" side=\"left\" fill=\"currentColor\" text-anchor=\"middle\">conj</textPath>\\n    </text>\\n    <path class=\"displacy-arrowhead\" d=\"M3365.0,616.5 L3373.0,604.5 3357.0,604.5\" fill=\"currentColor\"/>\\n</g>\\n\\n<g class=\"displacy-arrow\">\\n    <path class=\"displacy-arc\" id=\"arrow-9cd5c4ed760d43ba959e7def708cb8f1-0-20\" stroke-width=\"2px\" d=\"M3745,614.5 C3745,527.0 3870.0,527.0 3870.0,614.5\" fill=\"none\" stroke=\"currentColor\"/>\\n    <text dy=\"1.25em\" style=\"font-size: 0.8em; letter-spacing: 1px\">\\n        <textPath xlink:href=\"#arrow-9cd5c4ed760d43ba959e7def708cb8f1-0-20\" class=\"displacy-label\" startOffset=\"50%\" side=\"left\" fill=\"currentColor\" text-anchor=\"middle\">det</textPath>\\n    </text>\\n    <path class=\"displacy-arrowhead\" d=\"M3745,616.5 L3737,604.5 3753,604.5\" fill=\"currentColor\"/>\\n</g>\\n\\n<g class=\"displacy-arrow\">\\n    <path class=\"displacy-arc\" id=\"arrow-9cd5c4ed760d43ba959e7def708cb8f1-0-21\" stroke-width=\"2px\" d=\"M3570,614.5 C3570,439.5 3875.0,439.5 3875.0,614.5\" fill=\"none\" stroke=\"currentColor\"/>\\n    <text dy=\"1.25em\" style=\"font-size: 0.8em; letter-spacing: 1px\">\\n        <textPath xlink:href=\"#arrow-9cd5c4ed760d43ba959e7def708cb8f1-0-21\" class=\"displacy-label\" startOffset=\"50%\" side=\"left\" fill=\"currentColor\" text-anchor=\"middle\">attr</textPath>\\n    </text>\\n    <path class=\"displacy-arrowhead\" d=\"M3875.0,616.5 L3883.0,604.5 3867.0,604.5\" fill=\"currentColor\"/>\\n</g>\\n\\n<g class=\"displacy-arrow\">\\n    <path class=\"displacy-arc\" id=\"arrow-9cd5c4ed760d43ba959e7def708cb8f1-0-22\" stroke-width=\"2px\" d=\"M4095,614.5 C4095,527.0 4220.0,527.0 4220.0,614.5\" fill=\"none\" stroke=\"currentColor\"/>\\n    <text dy=\"1.25em\" style=\"font-size: 0.8em; letter-spacing: 1px\">\\n        <textPath xlink:href=\"#arrow-9cd5c4ed760d43ba959e7def708cb8f1-0-22\" class=\"displacy-label\" startOffset=\"50%\" side=\"left\" fill=\"currentColor\" text-anchor=\"middle\">advmod</textPath>\\n    </text>\\n    <path class=\"displacy-arrowhead\" d=\"M4095,616.5 L4087,604.5 4103,604.5\" fill=\"currentColor\"/>\\n</g>\\n\\n<g class=\"displacy-arrow\">\\n    <path class=\"displacy-arc\" id=\"arrow-9cd5c4ed760d43ba959e7def708cb8f1-0-23\" stroke-width=\"2px\" d=\"M3920,614.5 C3920,439.5 4225.0,439.5 4225.0,614.5\" fill=\"none\" stroke=\"currentColor\"/>\\n    <text dy=\"1.25em\" style=\"font-size: 0.8em; letter-spacing: 1px\">\\n        <textPath xlink:href=\"#arrow-9cd5c4ed760d43ba959e7def708cb8f1-0-23\" class=\"displacy-label\" startOffset=\"50%\" side=\"left\" fill=\"currentColor\" text-anchor=\"middle\">acl</textPath>\\n    </text>\\n    <path class=\"displacy-arrowhead\" d=\"M4225.0,616.5 L4233.0,604.5 4217.0,604.5\" fill=\"currentColor\"/>\\n</g>\\n\\n<g class=\"displacy-arrow\">\\n    <path class=\"displacy-arc\" id=\"arrow-9cd5c4ed760d43ba959e7def708cb8f1-0-24\" stroke-width=\"2px\" d=\"M4270,614.5 C4270,527.0 4395.0,527.0 4395.0,614.5\" fill=\"none\" stroke=\"currentColor\"/>\\n    <text dy=\"1.25em\" style=\"font-size: 0.8em; letter-spacing: 1px\">\\n        <textPath xlink:href=\"#arrow-9cd5c4ed760d43ba959e7def708cb8f1-0-24\" class=\"displacy-label\" startOffset=\"50%\" side=\"left\" fill=\"currentColor\" text-anchor=\"middle\">prep</textPath>\\n    </text>\\n    <path class=\"displacy-arrowhead\" d=\"M4395.0,616.5 L4403.0,604.5 4387.0,604.5\" fill=\"currentColor\"/>\\n</g>\\n\\n<g class=\"displacy-arrow\">\\n    <path class=\"displacy-arc\" id=\"arrow-9cd5c4ed760d43ba959e7def708cb8f1-0-25\" stroke-width=\"2px\" d=\"M4620,614.5 C4620,527.0 4745.0,527.0 4745.0,614.5\" fill=\"none\" stroke=\"currentColor\"/>\\n    <text dy=\"1.25em\" style=\"font-size: 0.8em; letter-spacing: 1px\">\\n        <textPath xlink:href=\"#arrow-9cd5c4ed760d43ba959e7def708cb8f1-0-25\" class=\"displacy-label\" startOffset=\"50%\" side=\"left\" fill=\"currentColor\" text-anchor=\"middle\">compound</textPath>\\n    </text>\\n    <path class=\"displacy-arrowhead\" d=\"M4620,616.5 L4612,604.5 4628,604.5\" fill=\"currentColor\"/>\\n</g>\\n\\n<g class=\"displacy-arrow\">\\n    <path class=\"displacy-arc\" id=\"arrow-9cd5c4ed760d43ba959e7def708cb8f1-0-26\" stroke-width=\"2px\" d=\"M4445,614.5 C4445,439.5 4750.0,439.5 4750.0,614.5\" fill=\"none\" stroke=\"currentColor\"/>\\n    <text dy=\"1.25em\" style=\"font-size: 0.8em; letter-spacing: 1px\">\\n        <textPath xlink:href=\"#arrow-9cd5c4ed760d43ba959e7def708cb8f1-0-26\" class=\"displacy-label\" startOffset=\"50%\" side=\"left\" fill=\"currentColor\" text-anchor=\"middle\">pobj</textPath>\\n    </text>\\n    <path class=\"displacy-arrowhead\" d=\"M4750.0,616.5 L4758.0,604.5 4742.0,604.5\" fill=\"currentColor\"/>\\n</g>\\n</svg>'"
            ],
            "application/vnd.google.colaboratory.intrinsic+json": {
              "type": "string"
            }
          },
          "metadata": {},
          "execution_count": 101
        }
      ]
    },
    {
      "cell_type": "code",
      "source": [
        "displacy.render(doc2, style=\"ent\")"
      ],
      "metadata": {
        "colab": {
          "base_uri": "https://localhost:8080/",
          "height": 105
        },
        "id": "GMKMepkdy-rs",
        "outputId": "51c1cc68-7ed9-4587-decd-994efa1f609a"
      },
      "execution_count": null,
      "outputs": [
        {
          "output_type": "execute_result",
          "data": {
            "text/plain": [
              "'<div class=\"entities\" style=\"line-height: 2.5; direction: ltr\">\\n<mark class=\"entity\" style=\"background: #aa9cfc; padding: 0.45em 0.6em; margin: 0 0.25em; line-height: 1; border-radius: 0.35em;\">\\n    Mike\\n    <span style=\"font-size: 0.8em; font-weight: bold; line-height: 1; border-radius: 0.35em; text-transform: uppercase; vertical-align: middle; margin-left: 0.5rem\">PERSON</span>\\n</mark>\\n enjoys playing football at field.</div>'"
            ],
            "application/vnd.google.colaboratory.intrinsic+json": {
              "type": "string"
            }
          },
          "metadata": {},
          "execution_count": 102
        }
      ]
    }
  ],
  "metadata": {
    "colab": {
      "name": "NLP-Spacy_linguistics_anotation.ipynb",
      "provenance": []
    },
    "kernelspec": {
      "display_name": "Python 3",
      "name": "python3"
    },
    "language_info": {
      "name": "python"
    }
  },
  "nbformat": 4,
  "nbformat_minor": 0
}